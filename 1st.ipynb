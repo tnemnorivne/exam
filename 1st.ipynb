{
 "cells": [
  {
   "cell_type": "code",
   "execution_count": null,
   "id": "e24efc59-5a80-4c84-a20c-b003f0db6398",
   "metadata": {},
   "outputs": [],
   "source": [
    "# 다음 데이터 세트를 이용하여 다이아몬드 가격예측(회귀) \n",
    "\n",
    "# url = \"https://raw.githubusercontent.com/mwaskom/seaborn-data/master/diamonds.csv\" diamonds = pd.read_csv(url) \n",
    "\n",
    "# 1. ML (RF, DT, LR) 수행\n",
    "\n",
    "# 2. Dense layer만 이용 FNCC 구현\n",
    "\n",
    "# 3. 순환 데이터 변환후 CNN 구현\n",
    "\n",
    "\n",
    "\n",
    "# 각 단계별로 수행완료후\n",
    "\n",
    "# 검사받은 이후에 다음 단계 진행"
   ]
  },
  {
   "cell_type": "code",
   "execution_count": 68,
   "id": "b88baedc-5147-4a01-9c84-98886eaf9af2",
   "metadata": {},
   "outputs": [
    {
     "data": {
      "text/html": [
       "<div>\n",
       "<style scoped>\n",
       "    .dataframe tbody tr th:only-of-type {\n",
       "        vertical-align: middle;\n",
       "    }\n",
       "\n",
       "    .dataframe tbody tr th {\n",
       "        vertical-align: top;\n",
       "    }\n",
       "\n",
       "    .dataframe thead th {\n",
       "        text-align: right;\n",
       "    }\n",
       "</style>\n",
       "<table border=\"1\" class=\"dataframe\">\n",
       "  <thead>\n",
       "    <tr style=\"text-align: right;\">\n",
       "      <th></th>\n",
       "      <th>cut</th>\n",
       "      <th>color</th>\n",
       "      <th>clarity</th>\n",
       "      <th>depth</th>\n",
       "      <th>table</th>\n",
       "      <th>price</th>\n",
       "      <th>x</th>\n",
       "      <th>y</th>\n",
       "      <th>z</th>\n",
       "    </tr>\n",
       "    <tr>\n",
       "      <th>carat</th>\n",
       "      <th></th>\n",
       "      <th></th>\n",
       "      <th></th>\n",
       "      <th></th>\n",
       "      <th></th>\n",
       "      <th></th>\n",
       "      <th></th>\n",
       "      <th></th>\n",
       "      <th></th>\n",
       "    </tr>\n",
       "  </thead>\n",
       "  <tbody>\n",
       "    <tr>\n",
       "      <th>0.23</th>\n",
       "      <td>Ideal</td>\n",
       "      <td>E</td>\n",
       "      <td>SI2</td>\n",
       "      <td>61.5</td>\n",
       "      <td>55.0</td>\n",
       "      <td>326</td>\n",
       "      <td>3.95</td>\n",
       "      <td>3.98</td>\n",
       "      <td>2.43</td>\n",
       "    </tr>\n",
       "    <tr>\n",
       "      <th>0.21</th>\n",
       "      <td>Premium</td>\n",
       "      <td>E</td>\n",
       "      <td>SI1</td>\n",
       "      <td>59.8</td>\n",
       "      <td>61.0</td>\n",
       "      <td>326</td>\n",
       "      <td>3.89</td>\n",
       "      <td>3.84</td>\n",
       "      <td>2.31</td>\n",
       "    </tr>\n",
       "    <tr>\n",
       "      <th>0.23</th>\n",
       "      <td>Good</td>\n",
       "      <td>E</td>\n",
       "      <td>VS1</td>\n",
       "      <td>56.9</td>\n",
       "      <td>65.0</td>\n",
       "      <td>327</td>\n",
       "      <td>4.05</td>\n",
       "      <td>4.07</td>\n",
       "      <td>2.31</td>\n",
       "    </tr>\n",
       "    <tr>\n",
       "      <th>0.29</th>\n",
       "      <td>Premium</td>\n",
       "      <td>I</td>\n",
       "      <td>VS2</td>\n",
       "      <td>62.4</td>\n",
       "      <td>58.0</td>\n",
       "      <td>334</td>\n",
       "      <td>4.20</td>\n",
       "      <td>4.23</td>\n",
       "      <td>2.63</td>\n",
       "    </tr>\n",
       "    <tr>\n",
       "      <th>0.31</th>\n",
       "      <td>Good</td>\n",
       "      <td>J</td>\n",
       "      <td>SI2</td>\n",
       "      <td>63.3</td>\n",
       "      <td>58.0</td>\n",
       "      <td>335</td>\n",
       "      <td>4.34</td>\n",
       "      <td>4.35</td>\n",
       "      <td>2.75</td>\n",
       "    </tr>\n",
       "    <tr>\n",
       "      <th>...</th>\n",
       "      <td>...</td>\n",
       "      <td>...</td>\n",
       "      <td>...</td>\n",
       "      <td>...</td>\n",
       "      <td>...</td>\n",
       "      <td>...</td>\n",
       "      <td>...</td>\n",
       "      <td>...</td>\n",
       "      <td>...</td>\n",
       "    </tr>\n",
       "    <tr>\n",
       "      <th>0.72</th>\n",
       "      <td>Ideal</td>\n",
       "      <td>D</td>\n",
       "      <td>SI1</td>\n",
       "      <td>60.8</td>\n",
       "      <td>57.0</td>\n",
       "      <td>2757</td>\n",
       "      <td>5.75</td>\n",
       "      <td>5.76</td>\n",
       "      <td>3.50</td>\n",
       "    </tr>\n",
       "    <tr>\n",
       "      <th>0.72</th>\n",
       "      <td>Good</td>\n",
       "      <td>D</td>\n",
       "      <td>SI1</td>\n",
       "      <td>63.1</td>\n",
       "      <td>55.0</td>\n",
       "      <td>2757</td>\n",
       "      <td>5.69</td>\n",
       "      <td>5.75</td>\n",
       "      <td>3.61</td>\n",
       "    </tr>\n",
       "    <tr>\n",
       "      <th>0.70</th>\n",
       "      <td>Very Good</td>\n",
       "      <td>D</td>\n",
       "      <td>SI1</td>\n",
       "      <td>62.8</td>\n",
       "      <td>60.0</td>\n",
       "      <td>2757</td>\n",
       "      <td>5.66</td>\n",
       "      <td>5.68</td>\n",
       "      <td>3.56</td>\n",
       "    </tr>\n",
       "    <tr>\n",
       "      <th>0.86</th>\n",
       "      <td>Premium</td>\n",
       "      <td>H</td>\n",
       "      <td>SI2</td>\n",
       "      <td>61.0</td>\n",
       "      <td>58.0</td>\n",
       "      <td>2757</td>\n",
       "      <td>6.15</td>\n",
       "      <td>6.12</td>\n",
       "      <td>3.74</td>\n",
       "    </tr>\n",
       "    <tr>\n",
       "      <th>0.75</th>\n",
       "      <td>Ideal</td>\n",
       "      <td>D</td>\n",
       "      <td>SI2</td>\n",
       "      <td>62.2</td>\n",
       "      <td>55.0</td>\n",
       "      <td>2757</td>\n",
       "      <td>5.83</td>\n",
       "      <td>5.87</td>\n",
       "      <td>3.64</td>\n",
       "    </tr>\n",
       "  </tbody>\n",
       "</table>\n",
       "<p>53940 rows × 9 columns</p>\n",
       "</div>"
      ],
      "text/plain": [
       "             cut color clarity  depth  table  price     x     y     z\n",
       "carat                                                                \n",
       "0.23       Ideal     E     SI2   61.5   55.0    326  3.95  3.98  2.43\n",
       "0.21     Premium     E     SI1   59.8   61.0    326  3.89  3.84  2.31\n",
       "0.23        Good     E     VS1   56.9   65.0    327  4.05  4.07  2.31\n",
       "0.29     Premium     I     VS2   62.4   58.0    334  4.20  4.23  2.63\n",
       "0.31        Good     J     SI2   63.3   58.0    335  4.34  4.35  2.75\n",
       "...          ...   ...     ...    ...    ...    ...   ...   ...   ...\n",
       "0.72       Ideal     D     SI1   60.8   57.0   2757  5.75  5.76  3.50\n",
       "0.72        Good     D     SI1   63.1   55.0   2757  5.69  5.75  3.61\n",
       "0.70   Very Good     D     SI1   62.8   60.0   2757  5.66  5.68  3.56\n",
       "0.86     Premium     H     SI2   61.0   58.0   2757  6.15  6.12  3.74\n",
       "0.75       Ideal     D     SI2   62.2   55.0   2757  5.83  5.87  3.64\n",
       "\n",
       "[53940 rows x 9 columns]"
      ]
     },
     "execution_count": 68,
     "metadata": {},
     "output_type": "execute_result"
    }
   ],
   "source": [
    "import numpy as np\n",
    "import matplotlib.pyplot as plt\n",
    "import pandas as pd\n",
    "import seaborn as sns\n",
    "from scipy import stats  # 과학용 계산 라이브러리\n",
    "from sklearn.model_selection import train_test_split\n",
    "from sklearn.preprocessing import LabelEncoder, StandardScaler\n",
    "from sklearn.linear_model import LogisticRegression\n",
    "from sklearn.ensemble import RandomForestRegressor\n",
    "from sklearn.tree import DecisionTreeRegressor\n",
    "from sklearn.metrics import mean_squared_error\n",
    "import tensorflow as tf\n",
    "from tensorflow import keras\n",
    "import matplotlib.pyplot as plt\n",
    "from sklearn.metrics import mean_squared_error, r2_score\n",
    "\n",
    "df = pd.read_csv(\"https://raw.githubusercontent.com/mwaskom/seaborn-data/master/diamonds.csv\", index_col=0)\n",
    "df"
   ]
  },
  {
   "cell_type": "code",
   "execution_count": 37,
   "id": "fe7400de-751e-427c-9297-8f7c7ec5778c",
   "metadata": {},
   "outputs": [
    {
     "data": {
      "text/plain": [
       "Index(['cut', 'color', 'clarity', 'depth', 'table', 'price', 'x', 'y', 'z'], dtype='object')"
      ]
     },
     "execution_count": 37,
     "metadata": {},
     "output_type": "execute_result"
    }
   ],
   "source": [
    "# 컬렴명 확인\n",
    "df.columns"
   ]
  },
  {
   "cell_type": "code",
   "execution_count": 38,
   "id": "5a1c9c11-30a9-4421-8c78-ae288bb29167",
   "metadata": {},
   "outputs": [
    {
     "data": {
      "text/plain": [
       "cut        0\n",
       "color      0\n",
       "clarity    0\n",
       "depth      0\n",
       "table      0\n",
       "price      0\n",
       "x          0\n",
       "y          0\n",
       "z          0\n",
       "dtype: int64"
      ]
     },
     "execution_count": 38,
     "metadata": {},
     "output_type": "execute_result"
    }
   ],
   "source": [
    "# 결측치 확인\n",
    "df.isnull().sum()"
   ]
  },
  {
   "cell_type": "code",
   "execution_count": 39,
   "id": "a0589ae1-6568-4465-9cb0-7227f3db41cc",
   "metadata": {},
   "outputs": [
    {
     "data": {
      "text/plain": [
       "cut        0\n",
       "color      0\n",
       "clarity    0\n",
       "depth      0\n",
       "table      0\n",
       "price      0\n",
       "x          0\n",
       "y          0\n",
       "z          0\n",
       "dtype: int64"
      ]
     },
     "execution_count": 39,
     "metadata": {},
     "output_type": "execute_result"
    }
   ],
   "source": [
    "# 결측치 제거 및 다시 확인\n",
    "df.dropna()\n",
    "df.isnull().sum()"
   ]
  },
  {
   "cell_type": "code",
   "execution_count": 40,
   "id": "9935fb8a-321d-4555-9d04-27e324aae9da",
   "metadata": {},
   "outputs": [],
   "source": [
    "# cut, color 컬럼 레이블 인코딩\n",
    "le = LabelEncoder()\n",
    "df['cut'] = le.fit_transform(df['cut'])\n",
    "df['color'] = le.fit_transform(df['color'])\n",
    "df['clarity'] = le.fit_transform(df['clarity'])"
   ]
  },
  {
   "cell_type": "code",
   "execution_count": 41,
   "id": "0b64a9ad-91a7-4c1a-9149-3d731f113c17",
   "metadata": {},
   "outputs": [
    {
     "data": {
      "text/html": [
       "<div>\n",
       "<style scoped>\n",
       "    .dataframe tbody tr th:only-of-type {\n",
       "        vertical-align: middle;\n",
       "    }\n",
       "\n",
       "    .dataframe tbody tr th {\n",
       "        vertical-align: top;\n",
       "    }\n",
       "\n",
       "    .dataframe thead th {\n",
       "        text-align: right;\n",
       "    }\n",
       "</style>\n",
       "<table border=\"1\" class=\"dataframe\">\n",
       "  <thead>\n",
       "    <tr style=\"text-align: right;\">\n",
       "      <th></th>\n",
       "      <th>cut</th>\n",
       "      <th>color</th>\n",
       "      <th>clarity</th>\n",
       "      <th>depth</th>\n",
       "      <th>table</th>\n",
       "      <th>x</th>\n",
       "      <th>y</th>\n",
       "      <th>z</th>\n",
       "    </tr>\n",
       "    <tr>\n",
       "      <th>carat</th>\n",
       "      <th></th>\n",
       "      <th></th>\n",
       "      <th></th>\n",
       "      <th></th>\n",
       "      <th></th>\n",
       "      <th></th>\n",
       "      <th></th>\n",
       "      <th></th>\n",
       "    </tr>\n",
       "  </thead>\n",
       "  <tbody>\n",
       "    <tr>\n",
       "      <th>0.23</th>\n",
       "      <td>2</td>\n",
       "      <td>1</td>\n",
       "      <td>3</td>\n",
       "      <td>61.5</td>\n",
       "      <td>55.0</td>\n",
       "      <td>3.95</td>\n",
       "      <td>3.98</td>\n",
       "      <td>2.43</td>\n",
       "    </tr>\n",
       "    <tr>\n",
       "      <th>0.21</th>\n",
       "      <td>3</td>\n",
       "      <td>1</td>\n",
       "      <td>2</td>\n",
       "      <td>59.8</td>\n",
       "      <td>61.0</td>\n",
       "      <td>3.89</td>\n",
       "      <td>3.84</td>\n",
       "      <td>2.31</td>\n",
       "    </tr>\n",
       "    <tr>\n",
       "      <th>0.23</th>\n",
       "      <td>1</td>\n",
       "      <td>1</td>\n",
       "      <td>4</td>\n",
       "      <td>56.9</td>\n",
       "      <td>65.0</td>\n",
       "      <td>4.05</td>\n",
       "      <td>4.07</td>\n",
       "      <td>2.31</td>\n",
       "    </tr>\n",
       "    <tr>\n",
       "      <th>0.29</th>\n",
       "      <td>3</td>\n",
       "      <td>5</td>\n",
       "      <td>5</td>\n",
       "      <td>62.4</td>\n",
       "      <td>58.0</td>\n",
       "      <td>4.20</td>\n",
       "      <td>4.23</td>\n",
       "      <td>2.63</td>\n",
       "    </tr>\n",
       "    <tr>\n",
       "      <th>0.31</th>\n",
       "      <td>1</td>\n",
       "      <td>6</td>\n",
       "      <td>3</td>\n",
       "      <td>63.3</td>\n",
       "      <td>58.0</td>\n",
       "      <td>4.34</td>\n",
       "      <td>4.35</td>\n",
       "      <td>2.75</td>\n",
       "    </tr>\n",
       "  </tbody>\n",
       "</table>\n",
       "</div>"
      ],
      "text/plain": [
       "       cut  color  clarity  depth  table     x     y     z\n",
       "carat                                                     \n",
       "0.23     2      1        3   61.5   55.0  3.95  3.98  2.43\n",
       "0.21     3      1        2   59.8   61.0  3.89  3.84  2.31\n",
       "0.23     1      1        4   56.9   65.0  4.05  4.07  2.31\n",
       "0.29     3      5        5   62.4   58.0  4.20  4.23  2.63\n",
       "0.31     1      6        3   63.3   58.0  4.34  4.35  2.75"
      ]
     },
     "execution_count": 41,
     "metadata": {},
     "output_type": "execute_result"
    }
   ],
   "source": [
    "X = df.drop('price',axis=1)\n",
    "X.head()"
   ]
  },
  {
   "cell_type": "code",
   "execution_count": 49,
   "id": "8e294325-423a-439b-8b54-55d54947628e",
   "metadata": {},
   "outputs": [
    {
     "name": "stdout",
     "output_type": "stream",
     "text": [
      "price\n",
      "605      132\n",
      "802      127\n",
      "625      126\n",
      "828      125\n",
      "776      124\n",
      "        ... \n",
      "8816       1\n",
      "14704      1\n",
      "14699      1\n",
      "14698      1\n",
      "9793       1\n",
      "Name: count, Length: 11602, dtype: int64\n"
     ]
    }
   ],
   "source": [
    "# 'price' 컬럼의 레이블 개수 확인\n",
    "label_counts = df['price'].value_counts() \n",
    "print(label_counts)"
   ]
  },
  {
   "cell_type": "code",
   "execution_count": 32,
   "id": "085089ef-ed85-4406-acc7-c459b0eee52b",
   "metadata": {},
   "outputs": [
    {
     "data": {
      "text/plain": [
       "carat\n",
       "0.23    326\n",
       "0.21    326\n",
       "0.23    327\n",
       "0.29    334\n",
       "0.31    335\n",
       "Name: price, dtype: int64"
      ]
     },
     "execution_count": 32,
     "metadata": {},
     "output_type": "execute_result"
    }
   ],
   "source": [
    "y = df['price']\n",
    "y.head()"
   ]
  },
  {
   "cell_type": "code",
   "execution_count": 52,
   "id": "aca752fe-3a58-4cdb-9876-fc97507f50a1",
   "metadata": {},
   "outputs": [],
   "source": [
    "# 5. 데이터 분할\n",
    "X_train, X_test, y_train, y_test = train_test_split(X, y, test_size=0.25, random_state=42)"
   ]
  },
  {
   "cell_type": "code",
   "execution_count": 53,
   "id": "4258e4c1-a52a-4c0e-8ab0-cec9ec363839",
   "metadata": {},
   "outputs": [],
   "source": [
    "# 스케일링\n",
    "scaler = StandardScaler()\n",
    "scaler.fit(X_train)\n",
    "X_train_scaled = scaler.transform(X_train)\n",
    "X_test_scaled = scaler.transform(X_test)"
   ]
  },
  {
   "cell_type": "code",
   "execution_count": null,
   "id": "6976da4a-5a50-4fed-935e-3488558c12f3",
   "metadata": {},
   "outputs": [],
   "source": [
    "model = LogisticRegression()\n",
    "model.fit(X_train_scaled, y_train)\n",
    "ly_preds = model.predict(X_test_scaled))\n",
    "\n",
    "# 데이터의 최대값과 최소값 확인\n",
    "max_value = df['price'].max() \n",
    "min_value = df['price'].min()  \n",
    "range_value = max_value - min_value\n",
    "\n",
    "print('평균제곱근오차', mean_squared_error(ly_preds, y_test) / range_value)\n",
    "\n",
    "def mse_np(actual, predicted):\n",
    "    return np.mean((np.array(actual) - np.array(predicted)) ** 2)\n",
    "\n",
    "print('평균제곱근오차', mse_np(ly_preds, y_test) / range_value)\n",
    "\n",
    "def mse(actual, predicted):\n",
    "    sum_square_error = sum((a - p) ** 2 for a, p in zip(actual, predicted))\n",
    "    mean_square_error = sum_square_error / len(actual)\n",
    "    return mean_square_error\n",
    "\n",
    "print('평균제곱근오차', mse(ly_preds, y_test) / range_value)"
   ]
  },
  {
   "cell_type": "code",
   "execution_count": 64,
   "id": "ad48fb15-5754-4335-80e5-c5f5748c39b8",
   "metadata": {},
   "outputs": [
    {
     "name": "stdout",
     "output_type": "stream",
     "text": [
      "평균제곱근오차 17.44448982717309\n"
     ]
    }
   ],
   "source": [
    "model = RandomForestRegressor()\n",
    "model.fit(X_train_scaled, y_train)\n",
    "\n",
    "ry_preds = model.predict(X_test_scaled)\n",
    "print('평균제곱근오차', mean_squared_error(ry_preds, y_test) / range_value)"
   ]
  },
  {
   "cell_type": "code",
   "execution_count": 56,
   "id": "053dab57-eda3-480d-84fc-b738f2f13766",
   "metadata": {},
   "outputs": [
    {
     "name": "stdout",
     "output_type": "stream",
     "text": [
      "평균제곱근오차 31.62078836943345\n"
     ]
    }
   ],
   "source": [
    "model = DecisionTreeRegressor()\n",
    "model.fit(X_train_scaled, y_train)\n",
    "\n",
    "dy_preds = model.predict(X_test_scaled)\n",
    "print('평균제곱근오차', mean_squared_error(dy_preds, y_test) / range_value)"
   ]
  }
 ],
 "metadata": {
  "kernelspec": {
   "display_name": "Python 3 (ipykernel)",
   "language": "python",
   "name": "python3"
  },
  "language_info": {
   "codemirror_mode": {
    "name": "ipython",
    "version": 3
   },
   "file_extension": ".py",
   "mimetype": "text/x-python",
   "name": "python",
   "nbconvert_exporter": "python",
   "pygments_lexer": "ipython3",
   "version": "3.11.7"
  }
 },
 "nbformat": 4,
 "nbformat_minor": 5
}
